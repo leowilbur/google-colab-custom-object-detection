{
  "nbformat": 4,
  "nbformat_minor": 0,
  "metadata": {
    "colab": {
      "name": "[Leo] Train Custom Object Detection With Dartnet.ipynb",
      "provenance": [],
      "collapsed_sections": [],
      "private_outputs": true
    },
    "kernelspec": {
      "name": "python3",
      "display_name": "Python 3"
    },
    "language_info": {
      "name": "python"
    },
    "accelerator": "GPU"
  },
  "cells": [
    {
      "cell_type": "code",
      "source": [
        "# Update roboflow data set for darknet\n",
        "# ROBOFLOW_ZIP_FILE=\"https://app.roboflow.com/ds/7viaILdWFq?key=BiHhOAv3mw\" # Driver license\n",
        "ROBOFLOW_ZIP_FILE=\"https://app.roboflow.com/ds/9itmzNBDlH?key=CKAHQ5dLuv\" # PR"
      ],
      "metadata": {
        "id": "OI2K84_Cl-3e"
      },
      "execution_count": null,
      "outputs": []
    },
    {
      "cell_type": "code",
      "source": [
        "!/usr/local/cuda/bin/nvcc --version\n",
        "!nvidia-smi"
      ],
      "metadata": {
        "id": "z1h3g8ruJs3E"
      },
      "execution_count": null,
      "outputs": []
    },
    {
      "cell_type": "code",
      "source": [
        "# from google.colab import drive\n",
        "# drive.mount('/content/drive')"
      ],
      "metadata": {
        "id": "vN6zHn0S-iy7"
      },
      "execution_count": null,
      "outputs": []
    },
    {
      "cell_type": "code",
      "source": [
        "%cd /content/\n",
        "%rm -rf dartnet-custom-object-detection\n",
        "%rm -rf /content/drive/drive/MyDrive/backup\n",
        "%rm -rf /content/TRAIN_DATA"
      ],
      "metadata": {
        "id": "lDOGqtivHNqV"
      },
      "execution_count": null,
      "outputs": []
    },
    {
      "cell_type": "code",
      "source": [
        "!curl -L {ROBOFLOW_ZIP_FILE} > roboflow.zip; unzip roboflow.zip -d TRAIN_DATA; rm roboflow.zip"
      ],
      "metadata": {
        "id": "mWcBgMgcBMf7"
      },
      "execution_count": null,
      "outputs": []
    },
    {
      "cell_type": "code",
      "execution_count": null,
      "metadata": {
        "id": "fLth2PwhE5ZX"
      },
      "outputs": [],
      "source": [
        "!git clone https://github.com/leowilbur/dartnet-custom-object-detection.git"
      ]
    },
    {
      "cell_type": "code",
      "source": [
        "%cd /content/dartnet-custom-object-detection \n",
        "!wget https://pjreddie.com/media/files/darknet53.conv.74"
      ],
      "metadata": {
        "id": "UDBJ5FjxHAic"
      },
      "execution_count": null,
      "outputs": []
    },
    {
      "cell_type": "code",
      "source": [
        "%cd /content/dartnet-custom-object-detection \n",
        "# We already build darknet for CodeLab\n",
        "# !make\n",
        "!chmod +x darknet "
      ],
      "metadata": {
        "id": "-o5Svx0yHfjC"
      },
      "execution_count": null,
      "outputs": []
    },
    {
      "cell_type": "code",
      "source": [
        "#Set up training file directories for custom dataset\n",
        "%rm data_train -rf\n",
        "%mkdir data_train\n",
        "%rm backup -rf\n",
        "%mkdir backup\n",
        "%cd /content/dartnet-custom-object-detection/\n",
        "%cp /content/TRAIN_DATA/train/_darknet.labels data_train/obj.names\n",
        "%mkdir data_train/images\n",
        "#copy image and labels\n",
        "%cp /content/TRAIN_DATA/train/*.jpg data_train/images/\n",
        "%cp /content/TRAIN_DATA/valid/*.jpg data_train/images/\n",
        "\n",
        "%mkdir data_train/labels\n",
        "%cp /content/TRAIN_DATA/train/*.txt data_train/labels/\n",
        "%cp /content/TRAIN_DATA/valid/*.txt data_train/labels/\n",
        "\n",
        "classes = sum(1 for line in open('/content/TRAIN_DATA/train/_darknet.labels'))\n",
        "\n",
        "with open('data_train/obj.data', 'w') as out:\n",
        "  out.write('classes = %s\\n' % classes )\n",
        "  out.write('train = data_train/train.txt\\n')\n",
        "  out.write('valid = data_train/valid.txt\\n')\n",
        "  out.write('names = data_train/obj.names\\n')\n",
        "  # out.write('backup = /content/drive/MyDrive/backup')\n",
        "  out.write('backup = backup')\n",
        "\n",
        "#write train file (just the image list)\n",
        "import os\n",
        "\n",
        "with open('data_train/train.txt', 'w') as out:\n",
        "  for img in [f for f in os.listdir('/content/TRAIN_DATA/train') if f.endswith('jpg')]:\n",
        "    out.write('data_train/images/' + img + '\\n')\n",
        "\n",
        "#write the valid file (just the image list)\n",
        "import os\n",
        "\n",
        "with open('data_train/valid.txt', 'w') as out:\n",
        "  for img in [f for f in os.listdir( '/content/TRAIN_DATA/valid') if f.endswith('jpg')]:\n",
        "    out.write('data/images/' + img + '\\n')"
      ],
      "metadata": {
        "id": "6NQuxUJN8aaR"
      },
      "execution_count": null,
      "outputs": []
    },
    {
      "cell_type": "code",
      "source": [
        "%cd /content/dartnet-custom-object-detection \n",
        "!./darknet detector train data_train/obj.data cfg/yolov3-tiny.cfg darknet53.conv.74"
      ],
      "metadata": {
        "id": "_ESC-n0-Hew9"
      },
      "execution_count": null,
      "outputs": []
    }
  ]
}